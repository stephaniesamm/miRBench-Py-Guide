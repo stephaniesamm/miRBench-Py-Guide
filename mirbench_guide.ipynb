{
 "cells": [
  {
   "cell_type": "markdown",
   "id": "f516ccfe-5bf0-473d-a71a-10bd6f406dfd",
   "metadata": {},
   "source": [
    "# Notes on using miRBench"
   ]
  },
  {
   "cell_type": "code",
   "execution_count": 14,
   "id": "b7455794-1aa9-4b24-87e7-c9f9a8d9ac8e",
   "metadata": {},
   "outputs": [],
   "source": [
    "import miRBench # ignore warnings"
   ]
  },
  {
   "cell_type": "markdown",
   "id": "4f2a56f6-5bf9-4532-a778-dff0cabffc41",
   "metadata": {},
   "source": [
    "## Accessing datasets"
   ]
  },
  {
   "cell_type": "markdown",
   "id": "18d7c644-2515-4622-8f95-3f0597202608",
   "metadata": {},
   "source": [
    "Three collections of datasets are available. "
   ]
  },
  {
   "cell_type": "code",
   "execution_count": 15,
   "id": "b286b699-bfe6-41a1-8666-decf97653fd4",
   "metadata": {},
   "outputs": [
    {
     "data": {
      "text/plain": [
       "['AGO2_CLASH_Hejret2023',\n",
       " 'AGO2_eCLIP_Klimentova2022',\n",
       " 'AGO2_eCLIP_Manakov2022']"
      ]
     },
     "execution_count": 15,
     "metadata": {},
     "output_type": "execute_result"
    }
   ],
   "source": [
    "miRBench.dataset.list_datasets()"
   ]
  },
  {
   "cell_type": "markdown",
   "id": "63f12007-1e46-4cdc-94e2-4cbff3802682",
   "metadata": {},
   "source": [
    "Each collection is available in different train/test splits and class imbalance ratios. "
   ]
  },
  {
   "cell_type": "code",
   "execution_count": 16,
   "id": "cc6a40a1-d845-4310-ad9e-6b87e7535b00",
   "metadata": {},
   "outputs": [
    {
     "data": {
      "text/plain": [
       "{'AGO2_CLASH_Hejret2023': {'splits': {'train': {'ratios': ['10']},\n",
       "   'test': {'ratios': ['1', '10', '100']}}},\n",
       " 'AGO2_eCLIP_Klimentova2022': {'splits': {'test': {'ratios': ['1',\n",
       "     '10',\n",
       "     '100']}}},\n",
       " 'AGO2_eCLIP_Manakov2022': {'splits': {'train': {'ratios': ['1', '10', '100']},\n",
       "   'test': {'ratios': ['1', '10', '100']}}}}"
      ]
     },
     "execution_count": 16,
     "metadata": {},
     "output_type": "execute_result"
    }
   ],
   "source": [
    "miRBench.dataset.list_datasets(full=True)"
   ]
  },
  {
   "cell_type": "markdown",
   "id": "b7c27d3f-779a-49ee-9396-d24652712f0b",
   "metadata": {},
   "source": [
    "A dataset can be loaded as a pandas df directly, or downloaded to a specified path on your machine. "
   ]
  },
  {
   "cell_type": "code",
   "execution_count": 17,
   "id": "15fb974f-fc88-440c-8dbb-f4aae9273de9",
   "metadata": {},
   "outputs": [],
   "source": [
    "# Choose a dataset\n",
    "dataset_name = \"AGO2_CLASH_Hejret2023\"\n",
    "split = 'test'\n",
    "ratio = '1'"
   ]
  },
  {
   "cell_type": "code",
   "execution_count": 18,
   "id": "29d2fe2f-a491-47e2-a548-31ef2d6b3d0d",
   "metadata": {},
   "outputs": [
    {
     "name": "stdout",
     "output_type": "stream",
     "text": [
      "Using cached dataset /home/steph/.miRBench/datasets/AGO2_CLASH_Hejret2023/1/test/dataset.tsv\n"
     ]
    },
    {
     "data": {
      "text/html": [
       "<div>\n",
       "<style scoped>\n",
       "    .dataframe tbody tr th:only-of-type {\n",
       "        vertical-align: middle;\n",
       "    }\n",
       "\n",
       "    .dataframe tbody tr th {\n",
       "        vertical-align: top;\n",
       "    }\n",
       "\n",
       "    .dataframe thead th {\n",
       "        text-align: right;\n",
       "    }\n",
       "</style>\n",
       "<table border=\"1\" class=\"dataframe\">\n",
       "  <thead>\n",
       "    <tr style=\"text-align: right;\">\n",
       "      <th></th>\n",
       "      <th>noncodingRNA</th>\n",
       "      <th>gene</th>\n",
       "      <th>label</th>\n",
       "    </tr>\n",
       "  </thead>\n",
       "  <tbody>\n",
       "    <tr>\n",
       "      <th>0</th>\n",
       "      <td>TCCGAGCCTGGGTCTCCCTCTT</td>\n",
       "      <td>GGGTTTAGGGAAGGAGGTTCGGAGACAGGGAGCCAAGGCCTCTGTC...</td>\n",
       "      <td>1</td>\n",
       "    </tr>\n",
       "    <tr>\n",
       "      <th>1</th>\n",
       "      <td>TGCGGGGCTAGGGCTAACAGCA</td>\n",
       "      <td>GCTTCCCAAGTTAGGTTAGTGATGTGAAATGCTCCTGTCCCTGGCC...</td>\n",
       "      <td>1</td>\n",
       "    </tr>\n",
       "    <tr>\n",
       "      <th>2</th>\n",
       "      <td>CCCACTGCCCCAGGTGCTGCTGG</td>\n",
       "      <td>TCTTTCCAAAATTGTCCAGCAGCTTGAATGAGGCAGTGACAATTCT...</td>\n",
       "      <td>1</td>\n",
       "    </tr>\n",
       "    <tr>\n",
       "      <th>3</th>\n",
       "      <td>TGAGGGGCAGAGAGCGAGACTTT</td>\n",
       "      <td>CAGAACTGGGATTCAAGCGAGGTCTGGCCCCTCAGTCTGTGGCTTT...</td>\n",
       "      <td>1</td>\n",
       "    </tr>\n",
       "    <tr>\n",
       "      <th>4</th>\n",
       "      <td>CAAAGTGCTGTTCGTGCAGGTAG</td>\n",
       "      <td>TTTTTTCCCTTAGGACTCTGCACTTTATAGAATGTTGTAAAACAGA...</td>\n",
       "      <td>1</td>\n",
       "    </tr>\n",
       "  </tbody>\n",
       "</table>\n",
       "</div>"
      ],
      "text/plain": [
       "              noncodingRNA                                               gene  \\\n",
       "0   TCCGAGCCTGGGTCTCCCTCTT  GGGTTTAGGGAAGGAGGTTCGGAGACAGGGAGCCAAGGCCTCTGTC...   \n",
       "1   TGCGGGGCTAGGGCTAACAGCA  GCTTCCCAAGTTAGGTTAGTGATGTGAAATGCTCCTGTCCCTGGCC...   \n",
       "2  CCCACTGCCCCAGGTGCTGCTGG  TCTTTCCAAAATTGTCCAGCAGCTTGAATGAGGCAGTGACAATTCT...   \n",
       "3  TGAGGGGCAGAGAGCGAGACTTT  CAGAACTGGGATTCAAGCGAGGTCTGGCCCCTCAGTCTGTGGCTTT...   \n",
       "4  CAAAGTGCTGTTCGTGCAGGTAG  TTTTTTCCCTTAGGACTCTGCACTTTATAGAATGTTGTAAAACAGA...   \n",
       "\n",
       "   label  \n",
       "0      1  \n",
       "1      1  \n",
       "2      1  \n",
       "3      1  \n",
       "4      1  "
      ]
     },
     "execution_count": 18,
     "metadata": {},
     "output_type": "execute_result"
    }
   ],
   "source": [
    "df = miRBench.dataset.get_dataset_df(dataset_name, split=split, ratio=ratio)\n",
    "df.head()"
   ]
  },
  {
   "cell_type": "code",
   "execution_count": 19,
   "id": "e26ab3a3-7fd1-4399-b8bc-f2b95e59723f",
   "metadata": {},
   "outputs": [],
   "source": [
    "miRBench.dataset.download_dataset(dataset_name, download_path='./dataset.tsv', split=split, ratio=ratio)"
   ]
  },
  {
   "cell_type": "markdown",
   "id": "2c9441a5-8bef-402f-978a-3f545cecbcbe",
   "metadata": {},
   "source": [
    "Data will be downloaded to $HOME / \".miRBench\" / \"datasets\" directory, under separate subdirectories for each dataset."
   ]
  },
  {
   "cell_type": "code",
   "execution_count": 20,
   "id": "9838843b-8a9f-4e2a-939e-51d3ddf37aa2",
   "metadata": {},
   "outputs": [
    {
     "name": "stdout",
     "output_type": "stream",
     "text": [
      "Using cached dataset /home/steph/.miRBench/datasets/AGO2_CLASH_Hejret2023/1/test/dataset.tsv\n"
     ]
    },
    {
     "data": {
      "text/plain": [
       "PosixPath('/home/steph/.miRBench/datasets/AGO2_CLASH_Hejret2023/1/test/dataset.tsv')"
      ]
     },
     "execution_count": 20,
     "metadata": {},
     "output_type": "execute_result"
    }
   ],
   "source": [
    "miRBench.dataset.get_dataset_path(dataset_name, split=split, ratio=ratio)"
   ]
  },
  {
   "cell_type": "markdown",
   "id": "6d2f8f8e-ec04-4cdd-89c4-ee84a2ecec51",
   "metadata": {},
   "source": [
    "## Accessing models"
   ]
  },
  {
   "cell_type": "markdown",
   "id": "707aad6c-d8b2-4443-b624-fd83372eb430",
   "metadata": {},
   "source": [
    "There are 11 predictor tools available. "
   ]
  },
  {
   "cell_type": "code",
   "execution_count": 21,
   "id": "6c972162-5a34-4d6a-9e8f-da4930c0e36c",
   "metadata": {},
   "outputs": [
    {
     "data": {
      "text/plain": [
       "['CnnMirTarget_Zheng2020',\n",
       " 'RNACofold',\n",
       " 'miRNA_CNN_Hejret2023',\n",
       " 'miRBind_Klimentova2022',\n",
       " 'TargetNet_Min2021',\n",
       " 'Seed8mer',\n",
       " 'Seed7mer',\n",
       " 'Seed6mer',\n",
       " 'Seed6merBulgeOrMismatch',\n",
       " 'TargetScanCnn_McGeary2019',\n",
       " 'InteractionAwareModel_Yang2024']"
      ]
     },
     "execution_count": 21,
     "metadata": {},
     "output_type": "execute_result"
    }
   ],
   "source": [
    "miRBench.predictor.list_predictors()"
   ]
  },
  {
   "cell_type": "markdown",
   "id": "779f0c4f-37a3-479b-8c79-a3d2f22993c0",
   "metadata": {},
   "source": [
    "## Encoding data"
   ]
  },
  {
   "cell_type": "markdown",
   "id": "6c8d9d9f-12fd-4824-8bb2-792495783428",
   "metadata": {},
   "source": [
    "Depending on your tool of interest, a different encoder is required to prepare your dataset. "
   ]
  },
  {
   "cell_type": "code",
   "execution_count": 22,
   "id": "6a890fdb-8c78-4040-ba8e-3cc85f981103",
   "metadata": {},
   "outputs": [],
   "source": [
    "# Choose a tool\n",
    "tool = 'miRBind_Klimentova2022'"
   ]
  },
  {
   "cell_type": "code",
   "execution_count": 23,
   "id": "790f14b3-b969-4575-bba5-2a8370fb5675",
   "metadata": {},
   "outputs": [],
   "source": [
    "encoder = miRBench.encoder.get_encoder(tool)\n",
    "input = encoder(df)"
   ]
  },
  {
   "cell_type": "markdown",
   "id": "77078f28-cc31-4f54-a533-0156b93f9de6",
   "metadata": {},
   "source": [
    "## Getting predictions"
   ]
  },
  {
   "cell_type": "markdown",
   "id": "1b195018-f5a8-49aa-a888-55b5485f60dc",
   "metadata": {},
   "source": [
    "Pass your encoded dataset to an instance of your predictor to get your predictions. "
   ]
  },
  {
   "cell_type": "code",
   "execution_count": 24,
   "id": "53ee3b67-5989-433a-8a16-6a2c91a112df",
   "metadata": {},
   "outputs": [
    {
     "name": "stdout",
     "output_type": "stream",
     "text": [
      "45/45 [==============================] - 1s 21ms/step\n"
     ]
    },
    {
     "data": {
      "text/plain": [
       "array([0.689916  , 0.15220629, 0.07301959, 0.43757904, 0.34360746,\n",
       "       0.20519173, 0.09550288, 0.7929826 , 0.14150581, 0.05329493],\n",
       "      dtype=float32)"
      ]
     },
     "execution_count": 24,
     "metadata": {},
     "output_type": "execute_result"
    }
   ],
   "source": [
    "predictor = miRBench.predictor.get_predictor(tool)\n",
    "predictions = predictor(input)\n",
    "\n",
    "predictions[:10]"
   ]
  }
 ],
 "metadata": {
  "kernelspec": {
   "display_name": "Python 3 (ipykernel)",
   "language": "python",
   "name": "python3"
  },
  "language_info": {
   "codemirror_mode": {
    "name": "ipython",
    "version": 3
   },
   "file_extension": ".py",
   "mimetype": "text/x-python",
   "name": "python",
   "nbconvert_exporter": "python",
   "pygments_lexer": "ipython3",
   "version": "3.11.7"
  }
 },
 "nbformat": 4,
 "nbformat_minor": 5
}
